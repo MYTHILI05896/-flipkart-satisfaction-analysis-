{
 "cells": [
  {
   "cell_type": "markdown",
   "metadata": {},
   "source": [
    "# Flipkart Customer Service Satisfaction Analysis"
   ]
  },
  {
   "cell_type": "code",
   "execution_count": null,
   "metadata": {},
   "outputs": [],
   "source": [
    "# Import required libraries\n",
    "import pandas as pd\n",
    "import numpy as np\n",
    "import matplotlib.pyplot as plt\n",
    "import seaborn as sns\n",
    "from sklearn.preprocessing import LabelEncoder, StandardScaler\n",
    "from sklearn.model_selection import train_test_split\n",
    "from sklearn.ensemble import RandomForestClassifier\n",
    "from sklearn.metrics import classification_report, confusion_matrix\n",
    "from faker import Faker\n",
    "import shap\n",
    "import os\n",
    "\n",
    "# Set random seed for reproducibility\n",
    "np.random.seed(42)\n",
    "\n",
    "# For GitHub environments: use non-GUI backend\n",
    "if 'CODESPACES' in os.environ or 'GITHUB_ACTIONS' in os.environ:\n",
    "    plt.switch_backend('Agg')"
   ]
  },
  {
   "cell_type": "markdown",
   "metadata": {},
   "source": [
    "## Data Loading & Anonymization"
   ]
  },
  {
   "cell_type": "code",
   "execution_count": null,
   "metadata": {},
   "outputs": [],
   "source": [
    "def load_data():\n",
    "    # In real usage, replace with:\n",
    "    # return pd.read_csv('customer_data.csv')\n",
    "    fake = Faker()\n",
    "    data = {\n",
    "        'customer_id': [fake.uuid4() for _ in range(1000)],\n",
    "        'agent_id': [fake.random_int(100, 999) for _ in range(1000)],\n",
    "        'channel': np.random.choice(['Chat', 'Email', 'Phone', 'Social Media'], 1000),\n",
    "        'resolution_time': np.random.exponential(10, 1000),\n",
    "        'first_response': np.random.exponential(2, 1000),\n",
    "        'interaction_count': np.random.poisson(3, 1000),\n",
    "        'issue_type': np.random.choice(['Billing', 'Shipping', 'Product', 'Account'], 1000),\n",
    "        'sentiment_score': np.random.uniform(-1, 1, 1000),\n",
    "        'satisfaction': np.random.choice([0, 1], 1000, p=[0.35, 0.65])\n",
    "    }\n",
    "    return pd.DataFrame(data)\n",
    "\n",
    "df = load_data()\n",
    "df.head()"
   ]
  },
  {
   "cell_type": "markdown",
   "metadata": {},
   "source": [
    "## Exploratory Data Analysis (EDA)"
   ]
  },
  {
   "cell_type": "code",
   "execution_count": null,
   "metadata": {},
   "outputs": [],
   "source": [
    "def save_plot(fig, filename):\n",
    "    \"\"\"Save plot for GitHub environments\"\"\"\n",
    "    if 'CODESPACES' in os.environ or 'GITHUB_ACTIONS' in os.environ:\n",
    "        fig.savefig(f'plots/{filename}.png')\n",
    "        plt.close(fig)\n",
    "    else:\n",
    "        plt.show()\n",
    "\n",
    "def perform_eda(df):\n",
    "    # Create directory for plots\n",
    "    os.makedirs('plots', exist_ok=True)\n",
    "    \n",
    "    # Target distribution\n",
    "    plt.figure(figsize=(8, 5))\n",
    "    sns.countplot(x='satisfaction', data=df)\n",
    "    plt.title('Customer Satisfaction Distribution')\n",
    "    save_plot(plt.gcf(), 'satisfaction_distribution')\n",
    "    \n",
    "    # Agent performance\n",
    "    plt.figure(figsize=(10, 6))\n",
    "    agent_perf = df.groupby('agent_id')['satisfaction'].mean().nlargest(10)\n",
    "    agent_perf.plot(kind='bar')\n",
    "    plt.title('Top 10 Agents by Satisfaction Score')\n",
    "    plt.ylabel('Satisfaction Rate')\n",
    "    save_plot(plt.gcf(), 'agent_performance')\n",
    "    \n",
    "    # Channel analysis\n",
    "    plt.figure(figsize=(8, 5))\n",
    "    channel_satisfaction = df.groupby('channel')['satisfaction'].mean()\n",
    "    channel_satisfaction.plot(kind='bar')\n",
    "    plt.title('Satisfaction Rate by Support Channel')\n",
    "    plt.ylabel('Satisfaction Rate')\n",
    "    save_plot(plt.gcf(), 'channel_analysis')\n",
    "    \n",
    "    # Issue type analysis\n",
    "    plt.figure(figsize=(8, 5))\n",
    "    issue_satisfaction = df.groupby('issue_type')['satisfaction'].mean()\n",
    "    issue_satisfaction.plot(kind='bar')\n",
    "    plt.title('Satisfaction Rate by Issue Type')\n",
    "    plt.ylabel('Satisfaction Rate')\n",
    "    save_plot(plt.gcf(), 'issue_analysis')\n",
    "\n",
    "perform_eda(df)"
   ]
  },
  {
   "cell_type": "markdown",
   "metadata": {},
   "source": [
    "## Feature Engineering"
   ]
  },
  {
   "cell_type": "code",
   "execution_count": null,
   "metadata": {},
   "outputs": [],
   "source": [
    "def feature_engineering(df):\n",
    "    # Response efficiency\n",
    "    df['response_efficiency'] = df['first_response'] / df['resolution_time']\n",
    "    \n",
    "    # Channel recurrence\n",
    "    channel_counts = df.groupby('customer_id')['channel'].nunique()\n",
    "    df = df.merge(channel_counts.rename('channel_recurrence'), on='customer_id')\n",
    "    \n",
    "    # Agent experience\n",
    "    agent_interactions = df['agent_id'].value_counts()\n",
    "    df['agent_experience'] = df['agent_id'].map(agent_interactions)\n",
    "    \n",
    "    return df\n",
    "\n",
    "df = feature_engineering(df)\n",
    "df.head()"
   ]
  },
  {
   "cell_type": "markdown",
   "metadata": {},
   "source": [
    "## Model Training & Evaluation"
   ]
  },
  {
   "cell_type": "code",
   "execution_count": null,
   "metadata": {},
   "outputs": [],
   "source": [
    "def preprocess_data(df):\n",
    "    # Encode categorical features\n",
    "    le = LabelEncoder()\n",
    "    df['channel'] = le.fit_transform(df['channel'])\n",
    "    df['issue_type'] = le.fit_transform(df['issue_type'])\n",
    "    \n",
    "    # Feature scaling\n",
    "    scaler = StandardScaler()\n",
    "    numeric_cols = ['resolution_time', 'first_response', 'interaction_count', \n",
    "                   'sentiment_score', 'response_efficiency', 'channel_recurrence', \n",
    "                   'agent_experience']\n",
    "    df[numeric_cols] = scaler.fit_transform(df[numeric_cols])\n",
    "    \n",
    "    # Train-test split\n",
    "    X = df.drop(['customer_id', 'agent_id', 'satisfaction'], axis=1)\n",
    "    y = df['satisfaction']\n",
    "    \n",
    "    return train_test_split(X, y, test_size=0.2, random_state=42)\n",
    "\n",
    "X_train, X_test, y_train, y_test = preprocess_data(df)\n",
    "\n",
    "# Train model\n",
    "model = RandomForestClassifier(n_estimators=100, random_state=42)\n",
    "model.fit(X_train, y_train)\n",
    "\n",
    "# Evaluate\n",
    "y_pred = model.predict(X_test)\n",
    "print(\"\\nClassification Report:\")\n",
    "print(classification_report(y_test, y_pred))\n",
    "\n",
    "# Confusion matrix\n",
    "plt.figure(figsize=(8, 6))\n",
    "sns.heatmap(confusion_matrix(y_test, y_pred), annot=True, fmt='d', cmap='Blues')\n",
    "plt.title('Confusion Matrix')\n",
    "plt.xlabel('Predicted')\n",
    "plt.ylabel('Actual')\n",
    "save_plot(plt.gcf(), 'confusion_matrix')"
   ]
  },
  {
   "cell_type": "markdown",
   "metadata": {},
   "source": [
    "## Business Insights"
   ]
  },
  {
   "cell_type": "code",
   "execution_count": null,
   "metadata": {},
   "outputs": [],
   "source": [
    "def generate_insights(df):\n",
    "    insights = []\n",
    "    \n",
    "    # Channel efficiency\n",
    "    channel_eff = df.groupby('channel')['satisfaction'].mean()\n",
    "    best_channel = channel_eff.idxmax()\n",
    "    insights.append(f\"Highest satisfaction channel: {best_channel} ({channel_eff.max():.2%})\")\n",
    "    \n",
    "    # Sentiment impact\n",
    "    sentiment_corr = df['sentiment_score'].corr(df['satisfaction'])\n",
    "    insights.append(f\"Correlation between sentiment score and satisfaction: {sentiment_corr:.2f}\")\n",
    "    \n",
    "    # Agent experience\n",
    "    exp_corr = df['agent_experience'].corr(df['satisfaction'])\n",
    "    insights.append(f\"Agent experience vs satisfaction correlation: {exp_corr:.2f}\")\n",
    "    \n",
    "    # Priority issues\n",
    "    issue_priority = df.groupby('issue_type')['satisfaction'].mean().nsmallest(2)\n",
    "    insights.append(f\"Critical issues needing attention: {issue_priority.index.tolist()}\")\n",
    "    \n",
    "    print(\"\\nKey Business Insights:\")\n",
    "    for i, insight in enumerate(insights, 1):\n",
    "        print(f\"{i}. {insight}\")\n",
    "\n",
    "generate_insights(df)"
   ]
  }
 ],
 "metadata": {
  "kernelspec": {
   "display_name": "Python 3",
   "language": "python",
   "name": "python3"
  },
  "language_info": {
   "codemirror_mode": {
    "name": "ipython",
    "version": 3
   },
   "file_extension": ".py",
   "mimetype": "text/x-python",
   "name": "python",
   "nbconvert_exporter": "python",
   "pygments_lexer": "ipython3",
   "version": "3.10.12"
  }
 },
 "nbformat": 4,
 "nbformat_minor": 4
}
